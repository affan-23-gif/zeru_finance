{
 "cells": [
  {
   "cell_type": "code",
   "execution_count": 22,
   "id": "798a2d21",
   "metadata": {},
   "outputs": [
    {
     "name": "stdout",
     "output_type": "stream",
     "text": [
      "                                   userWallet  network protocol txhash  \\\n",
      "0  0x00000000001accfa9cef68cf5371a23025b6d4b6  polygon  aave_v2   None   \n",
      "1  0x000000000051d07a4fb3bd10121a343d85818da6  polygon  aave_v2   None   \n",
      "2  0x000000000096026fb41fc39f9875d164bd82e2dc  polygon  aave_v2   None   \n",
      "3  0x000000000096026fb41fc39f9875d164bd82e2dc  polygon  aave_v2   None   \n",
      "4  0x0000000000e189dd664b9ab08a33c4839953852c  polygon  aave_v2   None   \n",
      "\n",
      "                                               logId   timestamp  \\\n",
      "0  0x695c69acf608fbf5d38e48ca5535e118cc213a89e3d6...  1629178166   \n",
      "1  0xe6fc162c86b2928b0ba9b82bda672763665152b9de9d...  1621525013   \n",
      "2  0xe2d7eb815c89331a734ed6f204a06c385a1b39040baa...  1627118913   \n",
      "3  0x0d63a2eacd82b82f868db825ea7385e6bd8d046ee729...  1627773318   \n",
      "4  0x590eabb812c5006a6f4766f44e6e9d3ad0b5b563de69...  1618845907   \n",
      "\n",
      "             action              type                 amount assetSymbol  ...  \\\n",
      "0           deposit           Deposit             2000000000        USDC  ...   \n",
      "1           deposit           Deposit  145000000000000000000      WMATIC  ...   \n",
      "2           deposit           Deposit       1000000000000000      WMATIC  ...   \n",
      "3           deposit           Deposit       4000000000000000      WMATIC  ...   \n",
      "4  redeemunderlying  RedeemUnderlying                 501548        USDC  ...   \n",
      "\n",
      "  repayerId liquidatorId collateralAmount collateralAssetPriceUSD  \\\n",
      "0       NaN          NaN              NaN                     NaN   \n",
      "1       NaN          NaN              NaN                     NaN   \n",
      "2       NaN          NaN              NaN                     NaN   \n",
      "3       NaN          NaN              NaN                     NaN   \n",
      "4       NaN          NaN              NaN                     NaN   \n",
      "\n",
      "   principalAmount borrowAssetPriceUSD collateralReserveId  \\\n",
      "0              NaN                 NaN                 NaN   \n",
      "1              NaN                 NaN                 NaN   \n",
      "2              NaN                 NaN                 NaN   \n",
      "3              NaN                 NaN                 NaN   \n",
      "4              NaN                 NaN                 NaN   \n",
      "\n",
      "  collateralReserveSymbol principalReserveId principalReserveSymbol  \n",
      "0                     NaN                NaN                    NaN  \n",
      "1                     NaN                NaN                    NaN  \n",
      "2                     NaN                NaN                    NaN  \n",
      "3                     NaN                NaN                    NaN  \n",
      "4                     NaN                NaN                    NaN  \n",
      "\n",
      "[5 rows x 30 columns]\n",
      "action\n",
      "deposit             37808\n",
      "redeemunderlying    32305\n",
      "borrow              17086\n",
      "repay               12553\n",
      "liquidationcall       248\n",
      "Name: count, dtype: int64\n"
     ]
    }
   ],
   "source": [
    "import pandas as pd\n",
    "import numpy as np\n",
    "\n",
    "df = load_transactions(json_path=\"../data/user-wallet-transactions.json\")\n",
    "print(df.head())\n",
    "print(df['action'].value_counts())\n"
   ]
  },
  {
   "cell_type": "code",
   "execution_count": 6,
   "id": "6e677674",
   "metadata": {},
   "outputs": [
    {
     "name": "stdout",
     "output_type": "stream",
     "text": [
      "c:\\Users\\affan\\ml model\\aave-credit-score\\notebooks\n"
     ]
    }
   ],
   "source": [
    "import os\n",
    "print(os.getcwd())\n"
   ]
  },
  {
   "cell_type": "code",
   "execution_count": 18,
   "id": "e4155d9b",
   "metadata": {},
   "outputs": [
    {
     "name": "stdout",
     "output_type": "stream",
     "text": [
      "['user-wallet-transactions.json']\n"
     ]
    }
   ],
   "source": [
    "import os\n",
    "print(os.listdir(\"../data\"))"
   ]
  },
  {
   "cell_type": "code",
   "execution_count": null,
   "id": "813730de",
   "metadata": {},
   "outputs": [],
   "source": []
  }
 ],
 "metadata": {
  "kernelspec": {
   "display_name": "aave",
   "language": "python",
   "name": "python3"
  },
  "language_info": {
   "codemirror_mode": {
    "name": "ipython",
    "version": 3
   },
   "file_extension": ".py",
   "mimetype": "text/x-python",
   "name": "python",
   "nbconvert_exporter": "python",
   "pygments_lexer": "ipython3",
   "version": "3.11.9"
  }
 },
 "nbformat": 4,
 "nbformat_minor": 5
}
